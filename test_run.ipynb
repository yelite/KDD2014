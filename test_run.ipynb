{
 "metadata": {
  "name": "",
  "signature": "sha256:5ecc4681a621e843e0eb4ec343d1fbba97a048eb0ed7819bf7e1171d5ba6f636"
 },
 "nbformat": 3,
 "nbformat_minor": 0,
 "worksheets": [
  {
   "cells": [
    {
     "cell_type": "code",
     "collapsed": false,
     "input": [
      "# coding=utf-8\n",
      "import re\n",
      "import time\n",
      "\n",
      "import pandas as pd\n",
      "import numpy as np\n",
      "from sklearn import linear_model\n",
      "from sklearn.feature_extraction.text import TfidfVectorizer\n",
      "\n",
      "\n",
      "def clean(s):\n",
      "    try:\n",
      "        return \" \".join(re.findall(r'\\w+', s, flags=re.UNICODE | re.LOCALE)).lower()\n",
      "    except:\n",
      "        return \" \".join(re.findall(r'\\w+', \"no_text\", flags=re.UNICODE | re.LOCALE)).lower()\n"
     ],
     "language": "python",
     "metadata": {},
     "outputs": [
      {
       "output_type": "stream",
       "stream": "stderr",
       "text": [
        "/Users/Yelite/PyEnv/ML/lib/python2.7/site-packages/pandas/io/excel.py:626: UserWarning: Installed openpyxl is not supported at this time. Use >=1.6.1 and <2.0.0.\n",
        "  .format(openpyxl_compat.start_ver, openpyxl_compat.stop_ver))\n"
       ]
      }
     ],
     "prompt_number": 1
    },
    {
     "cell_type": "code",
     "collapsed": false,
     "input": [
      "# donations = pd.read_csv('data/donations.csv')\n",
      "projects = pd.read_csv('data/projects.csv', true_values=['t'], false_values=['f'])\n",
      "outcomes = pd.read_csv('data/outcomes.csv', true_values=['t'], false_values=['f'])\n",
      "# resources = pd.read_csv('data/resources.csv')\n",
      "sample = pd.read_csv('data/sampleSubmission.csv')\n",
      "essays = pd.read_csv('data/essays.csv', true_values=['t'], false_values=['f'])"
     ],
     "language": "python",
     "metadata": {},
     "outputs": [],
     "prompt_number": 2
    },
    {
     "cell_type": "code",
     "collapsed": false,
     "input": [
      "essays = essays.sort('projectid')\n",
      "projects = projects.sort('projectid')\n",
      "sample = sample.sort('projectid')\n",
      "ess_proj = pd.merge(essays, projects, on='projectid')\n",
      "ess_proj['essay'] = ess_proj['essay'].apply(clean)\n",
      "\n",
      "outcomes = outcomes.sort('projectid')"
     ],
     "language": "python",
     "metadata": {},
     "outputs": []
    },
    {
     "cell_type": "code",
     "collapsed": false,
     "input": [
      "train_ess_proj = pd.merge(ess_proj, outcomes, on='projectid', how='inner')\n",
      "\n",
      "train_ess_proj['first_label'] = np.array(train_ess_proj.at_least_1_teacher_referred_donor)\n",
      "train_ess_proj['c_should'] = (train_ess_proj.fully_funded == True) & \\\n",
      "                             (train_ess_proj.at_least_1_green_donation == True) & \\\n",
      "                             (train_ess_proj.great_chat == True) & \\\n",
      "                             (train_ess_proj.three_or_more_non_teacher_referred_donors |\n",
      "                              train_ess_proj.one_non_teacher_referred_donor_giving_100_plus |\n",
      "                              train_ess_proj.donation_from_thoughtful_donor)\n",
      "\n",
      "new_train_ess_proj = train_ess_proj[train_ess_proj.date_posted >= '2010-03-14']\n",
      "\n",
      "test_ess_proj = ess_proj[ess_proj.date_posted >= '2014-01-01'].sort('projectid')"
     ],
     "language": "python",
     "metadata": {},
     "outputs": []
    },
    {
     "cell_type": "code",
     "collapsed": false,
     "input": [
      "tfidf = TfidfVectorizer(min_df=4, max_features=900)\n",
      "\n",
      "tfidf.fit(train_ess_proj.essay)\n",
      "tr = tfidf.transform(train_ess_proj.essay)\n",
      "n_tr = tfidf.transform(new_train_ess_proj.essay)\n",
      "ts = tfidf.transform(test_ess_proj.essay)"
     ],
     "language": "python",
     "metadata": {},
     "outputs": []
    },
    {
     "cell_type": "code",
     "collapsed": false,
     "input": [
      "lr_should = linear_model.LogisticRegression(class_weight='auto')\n",
      "lr_should.fit(tr, train_ess_proj.c_should)\n",
      "preds = lr_should.predict_proba(ts)[:, 1]\n",
      "\n",
      "lr_first = linear_model.LogisticRegression(class_weight='auto')\n",
      "lr_first.fit(tr, new_train_ess_proj.first_label)\n",
      "preds_first = lr_first.predict_proba(ts)[:, 1]"
     ],
     "language": "python",
     "metadata": {},
     "outputs": []
    },
    {
     "cell_type": "code",
     "collapsed": false,
     "input": [
      "sample['is_exciting'] = preds * preds_first\n",
      "\n",
      "timestamp = time.strftime('%m_%d_%H_%M', time.localtime())\n",
      "sample.to_csv('output/p_{}.csv'.format(timestamp), index=False)"
     ],
     "language": "python",
     "metadata": {},
     "outputs": []
    }
   ],
   "metadata": {}
  }
 ]
}